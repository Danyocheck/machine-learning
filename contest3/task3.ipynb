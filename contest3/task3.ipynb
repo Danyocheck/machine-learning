{
 "cells": [
  {
   "cell_type": "code",
   "execution_count": 3,
   "metadata": {},
   "outputs": [
    {
     "name": "stdout",
     "output_type": "stream",
     "text": [
      "0.8804493891389981\n",
      "0.6049683606213805\n",
      "0.9436398449037311\n",
      "0.18606626924708636\n",
      "0.848322909283604\n"
     ]
    }
   ],
   "source": [
    "from sklearn.linear_model import LinearRegression\n",
    "from sklearn.metrics import r2_score\n",
    "import numpy as np\n",
    "\n",
    "x1 = np.load('1.npy')\n",
    "x2 = np.load('2.npy')\n",
    "x3 = np.load('3.npy')\n",
    "x4 = np.load('4.npy')\n",
    "x5 = np.load('5.npy')\n",
    "\n",
    "y = x1[:, 1]\n",
    "x1 = np.delete(x1, 1, 1)\n",
    "LR = LinearRegression().fit(x1[:, 0].reshape(-1, 1), y) \n",
    "preds = LR.predict(x1[:,0].reshape(-1,1))\n",
    "r2_score(y, preds)\n",
    "print(r2_score(y, preds))\n",
    "\n",
    "y = x2[:, 1]\n",
    "x2 = np.delete(x2, 1, 1)\n",
    "LR = LinearRegression().fit(x2[:, 0].reshape(-1, 1), y) \n",
    "preds = LR.predict(x2[:,0].reshape(-1,1))\n",
    "r2_score(y, preds)\n",
    "print(r2_score(y, preds))\n",
    "\n",
    "y = x3[:, 1]\n",
    "x3 = np.delete(x3, 1, 1)\n",
    "LR = LinearRegression().fit(x3[:, 0].reshape(-1, 1), y) \n",
    "preds = LR.predict(x3[:,0].reshape(-1,1))\n",
    "r2_score(y, preds)\n",
    "print(r2_score(y, preds))\n",
    "\n",
    "y = x4[:, 1]\n",
    "x4 = np.delete(x4, 1, 1)\n",
    "LR = LinearRegression().fit(x4[:, 0].reshape(-1, 1), y) \n",
    "preds = LR.predict(x4[:,0].reshape(-1,1))\n",
    "r2_score(y, preds)\n",
    "print(r2_score(y, preds))\n",
    "\n",
    "y = x5[:, 1]\n",
    "x5 = np.delete(x5, 1, 1)\n",
    "LR = LinearRegression().fit(x5[:, 0].reshape(-1, 1), y) \n",
    "preds = LR.predict(x5[:,0].reshape(-1,1))\n",
    "r2_score(y, preds)\n",
    "print(r2_score(y, preds))"
   ]
  }
 ],
 "metadata": {
  "kernelspec": {
   "display_name": "Python 3.11.0 64-bit",
   "language": "python",
   "name": "python3"
  },
  "language_info": {
   "codemirror_mode": {
    "name": "ipython",
    "version": 3
   },
   "file_extension": ".py",
   "mimetype": "text/x-python",
   "name": "python",
   "nbconvert_exporter": "python",
   "pygments_lexer": "ipython3",
   "version": "3.11.0"
  },
  "orig_nbformat": 4,
  "vscode": {
   "interpreter": {
    "hash": "aee8b7b246df8f9039afb4144a1f6fd8d2ca17a180786b69acc140d282b71a49"
   }
  }
 },
 "nbformat": 4,
 "nbformat_minor": 2
}
