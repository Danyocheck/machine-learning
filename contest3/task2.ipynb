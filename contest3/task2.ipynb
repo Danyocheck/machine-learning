{
 "cells": [
  {
   "cell_type": "markdown",
   "metadata": {},
   "source": [
    "Одна из метрик оценки качества регрессии - это коэффициент детерминации, или, т.н. r-квадрат. $r^2$ вычисляется по следующей формуле:\n",
    "\n",
    "$$r^2 = 1 - \\frac{D \\epsilon}{D y}$$\n",
    "\n",
    "где Dϵ - это дисперсия ошибки модели, а Dy - это дисперсия зависимой величины y, которую мы пытаемся предсказать.\n",
    "Подробнее об этой метрике можно прочитать в лекции.\n",
    "Вам предлагается написать функцию r2(y_true, y_pred) для подсчета коэффициента детерминации.\n",
    "\n",
    "def r2(y_true, y_pred): pass\n"
   ]
  },
  {
   "cell_type": "markdown",
   "metadata": {},
   "source": [
    "## Примечания\n",
    "\n",
    "Файл с реализованной функцией необходимо приложить при отправке ответа на это задание. Не забудьте импортировать необходимые модули. Пользоваться при выполнении данного задания можно только библиотекой numpy. При вычислении дисперсии ошибки модели обратите внимание, что математическое ожидание ошибки считается равным 0!"
   ]
  },
  {
   "cell_type": "code",
   "execution_count": 8,
   "metadata": {},
   "outputs": [],
   "source": [
    "import numpy as np\n",
    "\n",
    "def r2(y_true, y_pred):\n",
    "    answer = 0\n",
    "    d_e = 0\n",
    "    for i in range (len(y_true)):\n",
    "        d_e += (y_pred[i] - y_true[i]) ** 2\n",
    "    d_e /= len(y_true)\n",
    "    d_z = 0\n",
    "    for i in range (len(y_true)):\n",
    "        d_z += (y_true[i] - np.average(y_true)) ** 2\n",
    "    d_z /= len(y_true)\n",
    "    answer = 1 - d_e / d_z\n",
    "    return answer"
   ]
  },
  {
   "cell_type": "code",
   "execution_count": 9,
   "metadata": {},
   "outputs": [
    {
     "data": {
      "text/plain": [
       "0.0"
      ]
     },
     "execution_count": 9,
     "metadata": {},
     "output_type": "execute_result"
    }
   ],
   "source": [
    "from sklearn.metrics import r2_score\n",
    "import numpy as np\n",
    "\n",
    "y_true = np.random.randn(100) + 2\n",
    "y_pred = np.full_like(y_true, y_true.mean())\n",
    "r2_score(y_true, y_pred)\n",
    "r2(y_true, y_pred)"
   ]
  }
 ],
 "metadata": {
  "kernelspec": {
   "display_name": "Python 3.11.0 64-bit",
   "language": "python",
   "name": "python3"
  },
  "language_info": {
   "codemirror_mode": {
    "name": "ipython",
    "version": 3
   },
   "file_extension": ".py",
   "mimetype": "text/x-python",
   "name": "python",
   "nbconvert_exporter": "python",
   "pygments_lexer": "ipython3",
   "version": "3.11.0"
  },
  "orig_nbformat": 4,
  "vscode": {
   "interpreter": {
    "hash": "aee8b7b246df8f9039afb4144a1f6fd8d2ca17a180786b69acc140d282b71a49"
   }
  }
 },
 "nbformat": 4,
 "nbformat_minor": 2
}
