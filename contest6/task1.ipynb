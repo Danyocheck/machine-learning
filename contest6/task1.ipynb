{
 "cells": [
  {
   "cell_type": "markdown",
   "metadata": {},
   "source": [
    "# 7.1. F1-measure\n",
    "\n",
    "На [лекции](https://colab.research.google.com/drive/12xpYdqi1S4y68FYHym2rZ3wzHSm8cSLm?usp=sharing) мы подробно обсудили, что доля правильных ответов - не самая лучшая метрика оценки качества классификации. Довольно часто доля правильных ответов даёт смещенную оценку качества и способна ввести в заблуждение. По этой причине мы пользуемся метриками качества, которые называются *точностью* и *полнотой*, а также их комбинацией - *F1-мерой*. Ваша задача - реализовать функции `precision`, `recall` и `f1`. На вход всех этих функий подаются два вектора: `y_true`: вектор правильных ответов и `y_pred`: вектор предсказаний.\n",
    "\n",
    "В рамках выполнения этого задания можно использовать только модуль `numpy`."
   ]
  },
  {
   "cell_type": "code",
   "execution_count": null,
   "metadata": {},
   "outputs": [],
   "source": [
    "import numpy as np\n",
    "def precision(y_true, y_pred):\n",
    "    TP = np.sum(np.logical_and(y_true == 1, y_pred == 1))\n",
    "    FP = np.sum(np.logical_and(y_true == 0, y_pred == 1))\n",
    "    return TP / (TP + FP)\n",
    "\n",
    "\n",
    "def recall(y_true, y_pred):\n",
    "    TP = np.sum(np.logical_and(y_true == 1, y_pred == 1))\n",
    "    FN = np.sum(np.logical_and(y_true == 1, y_pred == 0))\n",
    "    return TP / (TP + FN)\n",
    "\n",
    "def f1(y_true, y_pred):\n",
    "    return 2 * precision(y_true, y_pred) * recall(y_true, y_pred) / (precision(y_true, y_pred) + recall(y_true, y_pred))"
   ]
  },
  {
   "cell_type": "markdown",
   "metadata": {},
   "source": [
    "## Примечания\n",
    "\n",
    "1. Проверить себя Вы можете, сравнив свои ответы с функциями `sklearn.metrics.precision_score`, `sklearn.metrics.recall_score` и `sklearn.metrics.f1_score`.\n",
    "\n",
    "2. В реализуемых методах запрещается использовать вывод любой информации на экран (в частности, недопустимо использование print()).\n",
    "\n",
    "3. Для улучшения качества кода мы не рекомендуем заново реализовывать вычисление precision и recall внутри метода f1. Достаточно просто внутри метода f1 вызвать уже реализованные вами ранее методы self.precision() и self.recall().\n",
    "\n",
    "4. Мы считаем, что исследуемый класс возвращает метки 0 или 1 (случай возвращения меток -1 и 1 можно не рассматривать, но для более корректного решения рекомендуем также учесть и эту ситуацию).\n",
    "\n",
    "5. Реализуемые функции не должны ничего выводить на экран - они должны возвращать значения соответствующих метрик."
   ]
  }
 ],
 "metadata": {
  "kernelspec": {
   "display_name": "Python 3.11.0 64-bit",
   "language": "python",
   "name": "python3"
  },
  "language_info": {
   "name": "python",
   "version": "3.11.0"
  },
  "orig_nbformat": 4,
  "vscode": {
   "interpreter": {
    "hash": "aee8b7b246df8f9039afb4144a1f6fd8d2ca17a180786b69acc140d282b71a49"
   }
  }
 },
 "nbformat": 4,
 "nbformat_minor": 2
}
