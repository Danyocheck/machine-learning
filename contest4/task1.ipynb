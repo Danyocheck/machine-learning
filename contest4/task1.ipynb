{
 "cells": [
  {
   "cell_type": "markdown",
   "metadata": {},
   "source": [
    "# 5.1. Параметры\n",
    "\n",
    "Ваша задача - обучить классификатор на стандартном датасете Ирисов Фишера решать задачу предсказания сорта цветка по описанию 4 его параметров.\n",
    "\n",
    "Ваша задача - дополнить приведённый ниже код таким образом, чтобы конфигурация обучения была следующей:\n",
    "\n",
    "1) В тренировочную выборку должно быть включено 60% всех объектов, выбранных из датасета случайным образом (поскольку датасет очень простой для обучения модели, 60% тренировочных объектов более, чем достаточно)\n",
    "\n",
    "2) Максимальная глубина построенного дерева не должна превышать 3\n",
    "\n",
    "3) В качестве критерия ветвления используйте критерий Джини\n",
    "\n",
    "4) Random state и random seed установите равными 42\n",
    "\n",
    "В качестве ответа к задаче укажите оценку качества классификации на тестовой выборке при помощи accuracy_score. Ответ округлите **вниз** до сотых. Разделитель дробной и целой части в ответе - **точка**."
   ]
  },
  {
   "cell_type": "code",
   "execution_count": 2,
   "metadata": {},
   "outputs": [
    {
     "name": "stdout",
     "output_type": "stream",
     "text": [
      "0.9833333333333333\n"
     ]
    }
   ],
   "source": [
    "import pandas as pd\n",
    "import numpy as np\n",
    "\n",
    "np.random.seed(42)\n",
    "\n",
    "# Импортируйте необходимые классы и функции из соответствующих модулей sklearn\n",
    "from sklearn.tree import DecisionTreeClassifier\n",
    "from sklearn.model_selection import train_test_split\n",
    "from sklearn.metrics import accuracy_score\n",
    "\n",
    "from sklearn.datasets import load_iris\n",
    "\n",
    "X, y = load_iris(return_X_y=True)\n",
    "\n",
    "X_train, x_test, y_train, y_test = train_test_split(X, y, test_size=0.4, shuffle=True, random_state=42)\n",
    "clf = DecisionTreeClassifier(criterion=\"gini\", max_depth=3, random_state=42)\n",
    "\n",
    "clf.fit(X_train, y_train)\n",
    "preds = clf.predict(x_test)\n",
    "\n",
    "acc = accuracy_score(y_test, preds)\n",
    "\n",
    "print(acc)"
   ]
  },
  {
   "cell_type": "markdown",
   "metadata": {},
   "source": [
    "## Примечания\n",
    "\n",
    "1. Для округления можно использовать одну из операций: round(), floor() (подумайте, какая операция здесь подходит лучше). Также можно использовать форматированный вывод и f-строки.\n",
    "\n",
    "2. Обратите внимание на соотношение тренировочной и тестовой выборки (оно указано в условии задачи)."
   ]
  }
 ],
 "metadata": {
  "kernelspec": {
   "display_name": "Python 3.11.0 64-bit",
   "language": "python",
   "name": "python3"
  },
  "language_info": {
   "codemirror_mode": {
    "name": "ipython",
    "version": 3
   },
   "file_extension": ".py",
   "mimetype": "text/x-python",
   "name": "python",
   "nbconvert_exporter": "python",
   "pygments_lexer": "ipython3",
   "version": "3.11.0"
  },
  "orig_nbformat": 4,
  "vscode": {
   "interpreter": {
    "hash": "aee8b7b246df8f9039afb4144a1f6fd8d2ca17a180786b69acc140d282b71a49"
   }
  }
 },
 "nbformat": 4,
 "nbformat_minor": 2
}
