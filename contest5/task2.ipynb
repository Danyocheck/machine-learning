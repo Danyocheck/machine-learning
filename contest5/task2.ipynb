{
 "cells": [
  {
   "cell_type": "markdown",
   "metadata": {},
   "source": [
    "# 6.2. Случайный лес\n",
    "\n",
    "Ваша задача - написать класс `random_forest` для решения задачи классификации на основе датасета Ирисов Фишера (`sklearn.datasets.load_iris`), принимающий на вход конструктора аргументы `n_estimators`, `max_depth`, `subspaces_dim` и `random_state`. описание этих аргументов приведено ниже. У этого класса должны быть определены методы `.fit()` и `.predict()`, а также поле `._estimators`, в котором должен храниться список алгоритмов, используемых в ансамбле. \n",
    "\n",
    "Для создания обучающей подвыборки для каждого из базовых классификаторов, Вы можете воспользоваться классом `sample`, который Вы реализовали в прошлом задании. В случае его использования, не забудьте включить его описание в файл с Вашим решением текущего задания. Мы также предлагаем вам организовать выбор подпространств для каждого дерева посредством заполнения списка `subspace_idx`, в котором будут логироваться выбранные для каждого базового классификатора подпространства.\n",
    "\n",
    "Замечание: в рамках выполнения данного задания запрещено использовать класс `sklearn.ensemble.RandomForestClassifier`. Такой код не пройдёт проверку.\n",
    "\n",
    "Подберите также гиперпараметры, на которых ваш алгоритм получает наилучшее качество (с точки зрения метрики accuracy, доли правильных ответов) на тестовой выборке с параметром `test_size`=0.3, задайте их в виде глобальных переменных N_ESTIMATORS, MAX_DEPTH, SUBSPACE_DIM.\n",
    "\n",
    "Шаблон класса:"
   ]
  },
  {
   "cell_type": "code",
   "execution_count": 79,
   "metadata": {},
   "outputs": [],
   "source": [
    "import numpy as np\n",
    "from sklearn.tree import DecisionTreeClassifier\n",
    "np.random.seed(42)\n",
    "\n",
    "class sample(object):\n",
    "    def __init__(self, X, n_subspace):\n",
    "        self.idx_subspace = self.random_subspace(X, n_subspace)\n",
    "    \n",
    "    def __call__(self, X, y):\n",
    "        idx_obj = self.bootstrap_sample(X)\n",
    "        X_sampled, y_sampled = self.get_subsample(X, y, self.idx_subspace, idx_obj)\n",
    "        return X_sampled, y_sampled\n",
    "\n",
    "    @staticmethod\n",
    "    def bootstrap_sample(X, random_state=42):\n",
    "        return np.unique(np.random.choice(X.shape[0], X.shape[0]))\n",
    "\n",
    "    @staticmethod\n",
    "    def random_subspace(X, n_subspace, random_state=42):\n",
    "        return np.random.choice(X.shape[1], n_subspace, replace=False)\n",
    "\n",
    "    @staticmethod\n",
    "    def get_subsample(X, y, idx_subspace, idx_obj):\n",
    "        X_sampled = X[idx_obj][:, idx_subspace]\n",
    "        y_sampled = y[idx_obj]\n",
    "        return X_sampled, y_sampled\n",
    "\n",
    "N_ESTIMATORS = 3\n",
    "MAX_DEPTH = 3\n",
    "SUBSPACE_DIM = 3\n",
    "\n",
    "class random_forest(object):\n",
    "    def __init__(self, n_estimators: int, max_depth: int, subspaces_dim: int, random_state: int):\n",
    "        self.n_estimators = n_estimators\n",
    "        self.max_depth = max_depth\n",
    "        self.subspaces_dim = subspaces_dim\n",
    "        self.random_state = random_state\n",
    "        self._estimators = []\n",
    "        self.subspace_idx = []\n",
    "\n",
    "    def fit(self, X, y):\n",
    "        for i in range(self.n_estimators):\n",
    "            s = sample(X, self.subspaces_dim)\n",
    "            dt = DecisionTreeClassifier(max_depth=self.max_depth, random_state=self.random_state)\n",
    "            X_sampled, y_sampled = s(X, y)\n",
    "            dt.fit(X_sampled, y_sampled)\n",
    "            self._estimators.append(dt)\n",
    "            self.subspace_idx.append(s.idx_subspace)\n",
    "\n",
    "    def predict(self, X):\n",
    "        predicted = np.zeros((X.shape[0],))\n",
    "        for i in range(self.n_estimators):\n",
    "            predicted += self._estimators[i].predict(X[:, self.subspace_idx[i]])\n",
    "\n",
    "        return (predicted / self.n_estimators).astype(int)"
   ]
  },
  {
   "cell_type": "code",
   "execution_count": 152,
   "metadata": {},
   "outputs": [
    {
     "name": "stdout",
     "output_type": "stream",
     "text": [
      "0.9555555555555556\n"
     ]
    }
   ],
   "source": [
    "from sklearn.model_selection import train_test_split\n",
    "from sklearn.datasets import load_iris\n",
    "from sklearn.metrics import accuracy_score\n",
    "\n",
    "X, y = load_iris(return_X_y=True)\n",
    "X_train, X_test, y_train, y_test = train_test_split(X, y, test_size=0.3, random_state=42)\n",
    "rf = random_forest(3, 3, 3, 42)\n",
    "rf.fit(X_train, y_train)\n",
    "predictions = rf.predict(X_test)\n",
    "accuracy_tree = accuracy_score(predictions, y_test)\n",
    "print(accuracy_tree)\n",
    "# mas = []\n",
    "# for i in range (1, 100):\n",
    "#     for j in range (1, 100):\n",
    "#         for k in range(1, 4):\n",
    "#             rf = random_forest(i, j, k, 42)\n",
    "#             rf.fit(X_train, y_train)\n",
    "#             predictions = rf.predict(X_test)\n",
    "#             accuracy_tree = accuracy_score(predictions, y_test)\n",
    "#             mas.append([i, j, k, accuracy_tree])\n",
    "\n",
    "# index = 0\n",
    "# max = 0\n",
    "# for i in range (len(mas)):\n",
    "#     if (mas[i][3] > max):\n",
    "#         max = mas[i][3]\n",
    "#         index = i\n",
    "\n",
    "# print(mas[i][0], mas[i][1], mas[i][2], mas[i][3])"
   ]
  },
  {
   "cell_type": "markdown",
   "metadata": {},
   "source": [
    "## Примечания\n",
    "\n",
    "1. В данной задаче запрещено использовать библиотеку pandas.\n",
    "\n",
    "2. В реализуемых методах запрещается использовать вывод любой информации на экран (в частности, недопустимо использование print())."
   ]
  },
  {
   "cell_type": "markdown",
   "metadata": {},
   "source": [
    "# Пример входных и выходных данных"
   ]
  },
  {
   "cell_type": "code",
   "execution_count": null,
   "metadata": {},
   "outputs": [],
   "source": [
    "X = np.array([[ 0.47819456, -1.57891216, -0.1018819 ,  1.11113501,  0.20826281,\n",
    "        -1.11091227,  0.07844205],\n",
    "       [ 0.11850997,  1.91073022,  0.95574903,  1.35798262,  0.56177995,\n",
    "         0.26012021,  0.42404407],\n",
    "       [-0.52304666,  0.75051167, -1.037804  , -0.10105312,  0.08559063,\n",
    "         0.5102743 , -1.79068927],\n",
    "       [-0.09078024,  1.62097709,  0.93284371,  1.0386902 , -0.68354252,\n",
    "        -1.27138661,  0.15060651],\n",
    "       [ 0.11676701, -0.71769062, -0.80119565,  0.73448495,  1.80728052,\n",
    "         0.45770337,  0.20689119]])"
   ]
  },
  {
   "cell_type": "code",
   "execution_count": null,
   "metadata": {},
   "outputs": [
    {
     "data": {
      "text/plain": [
       "(5, 7)"
      ]
     },
     "execution_count": 43,
     "metadata": {},
     "output_type": "execute_result"
    }
   ],
   "source": [
    "X.shape"
   ]
  },
  {
   "cell_type": "code",
   "execution_count": null,
   "metadata": {},
   "outputs": [
    {
     "data": {
      "text/plain": [
       "(5,)"
      ]
     },
     "execution_count": 44,
     "metadata": {},
     "output_type": "execute_result"
    }
   ],
   "source": [
    "y = np.array([1, 0, 1, 1, 0])\n",
    "y.shape"
   ]
  },
  {
   "cell_type": "code",
   "execution_count": null,
   "metadata": {},
   "outputs": [],
   "source": [
    "rf = random_forest(25, 15, 2, 42)\n",
    "rf.fit(X, y)"
   ]
  },
  {
   "cell_type": "code",
   "execution_count": null,
   "metadata": {},
   "outputs": [],
   "source": [
    "preds = rf.predict(X)"
   ]
  },
  {
   "cell_type": "code",
   "execution_count": null,
   "metadata": {},
   "outputs": [
    {
     "data": {
      "text/plain": [
       "array([1, 0, 1, 1, 0])"
      ]
     },
     "execution_count": 47,
     "metadata": {},
     "output_type": "execute_result"
    }
   ],
   "source": [
    "preds"
   ]
  }
 ],
 "metadata": {
  "kernelspec": {
   "display_name": "Python 3.11.0 64-bit",
   "language": "python",
   "name": "python3"
  },
  "language_info": {
   "codemirror_mode": {
    "name": "ipython",
    "version": 3
   },
   "file_extension": ".py",
   "mimetype": "text/x-python",
   "name": "python",
   "nbconvert_exporter": "python",
   "pygments_lexer": "ipython3",
   "version": "3.11.0"
  },
  "orig_nbformat": 4,
  "vscode": {
   "interpreter": {
    "hash": "aee8b7b246df8f9039afb4144a1f6fd8d2ca17a180786b69acc140d282b71a49"
   }
  }
 },
 "nbformat": 4,
 "nbformat_minor": 2
}
