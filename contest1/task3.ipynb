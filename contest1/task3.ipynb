{
 "cells": [
  {
   "cell_type": "markdown",
   "metadata": {},
   "source": [
    "# Задача 2.3. KNN\n",
    "\n",
    "В этом задании Вам предлагается написать класс `KNN_classifier`, пригодный для решения задачи классификации (многоклассовой).\n",
    "\n",
    "Мы предлагаем Вам шаблон класса. В этом шаблоне заполните тела функций `.fit` и `.predict`\n",
    "\n",
    "В качестве функции близости используйте Евклидово расстояние между объектами (подробнее https://numpy.org/doc/stable/reference/generated/numpy.linalg.norm.html).\n",
    "\n",
    "Напоминание:\n",
    "\n",
    "* Функция `.fit(x, y)` производит обучение модели. В рамках этой функции необходимо реализовать подбор оптимальных параметров модели/сконфигурировать модель для дальнейшего использования на основе данной тренировочной выборки, где x - это матрица признакового описания выборки, а y - вектор ответов.\n",
    "\n",
    "* Функция `.predict(x)` осуществляет предсказание для каждого из объектов, чьи векторные описания представлены строками матрицы x. Выполняется строго после `.fit()`. Ради безопасности можно даже реализовать механизм отказа в виде выбрасывания специальной ошибки `UnfittedError` в случае попытки вызова функции `.predict()` до вызова функции `.fit()`.\n",
    "\n",
    "Замечание: не изменяйте названия класса и его методов. Это приведёт к ошибке при исполнении Вашего кода в процессе проверки задания. Тем не менее, Вы можете дописать свои собственные методы, если это необходимо.\n",
    "\n",
    "Шаблон класса:"
   ]
  },
  {
   "cell_type": "code",
   "execution_count": 1,
   "metadata": {},
   "outputs": [],
   "source": [
    "import sklearn\n",
    "import numpy as np\n",
    "from sklearn.neighbors import KNeighborsClassifier\n",
    "from sklearn.datasets import load_breast_cancer\n",
    "from sklearn.metrics import accuracy_score\n",
    "from sklearn.model_selection import train_test_split\n",
    "\n",
    "class KNN_classifier:\n",
    "  def __init__(self, n_neighbors: int, **kwargs):\n",
    "    self.K = n_neighbors\n",
    "    self.X_train = None\n",
    "    self.y_train = None\n",
    "\n",
    "  def fit(self, x: np.array, y: np.array):\n",
    "    #TODO: напишите метод .fit() класса KNN_classifier\n",
    "    # Эта функция принимает на вход два массива:\n",
    "    # - x (набор признаков, массив размерности n x m, n - число объектов, m - размерность признакового описания)\n",
    "    # - y (метки для обучения, одномерный массив размерности n)\n",
    "    # Эта функция ничего не возвращает, она должна настроить внутренние параметры модели для дальнейшего использования\n",
    "    # Подумайте, в чем заключается процесс обучения именно этого алгоритма?\n",
    "    # Что этот алгоритм делает в тот момент, когда он получил обучающую выборку?\n",
    "    # Реализуйте эту логику в коде\n",
    "    self.X_train = x\n",
    "    self.y_train = y\n",
    "\n",
    "  def predict(self, x: np.array):\n",
    "    predictions = []\n",
    "    #TODO: напишите метод .predict(x) класса KNN_classifier\n",
    "    # Этот метод принимает на вход один массив x. Массив x - это двумерный массив объектов, для которых требуется получить предсказание\n",
    "    # На выходе этой функции мы хотим получить одномерный массив predictions, размерности x.shape[0] (то есть для каждогго объекта массива x мы сделали своё предсказание)\n",
    "    # Вспомните, как алгоритм KNN делает предсказание?\n",
    "    # Реализуйте эту логику в коде\n",
    "    if self.X_train is None or self.y_train is None:\n",
    "        raise ValueError(\"Model has not been fitted yet.\")\n",
    "    predictions = []\n",
    "    for x_test in x:\n",
    "        distances = np.linalg.norm(self.X_train - x_test, axis=1)\n",
    "        nearest_neighbors_idx = np.argsort(distances)[:self.K]\n",
    "        nearest_neighbors = self.y_train[nearest_neighbors_idx]\n",
    "        counts = np.bincount(nearest_neighbors)\n",
    "        prediction = np.argmax(counts)\n",
    "        predictions.append(prediction)\n",
    "    return np.array(predictions)\n",
    "\n",
    "# сравнить результаты с 1\n",
    "random_seed = 4238\n",
    "np.random.seed(random_seed)\n",
    "\n",
    "X, y = load_breast_cancer(return_X_y=True)\n",
    "X_train, x_test, y_train, y_test = train_test_split(X, y, test_size=0.3, shuffle=True, random_state=42)\n",
    "knn = KNN_classifier(8)\n",
    "knn.fit(X_train, y_train)\n",
    "predictions = knn.predict(x_test)\n",
    "acc = accuracy_score(y_test, predictions)\n",
    "\n",
    "print(acc)"
   ]
  },
  {
   "cell_type": "markdown",
   "metadata": {},
   "source": [
    "## Примечания\n",
    "\n",
    "1. Вы можете проверить правильность выполнения задания посредством сравнения полученных результатов с функцией из соответствующего модуля `sklearn`.\n",
    "\n",
    "2. В рамках выполнения данного задания **запрещено** использовать функции из пакета `sklearn` и любого другого, кроме `numpy`. Код, использующий любые другие модули, не пройдёт тесты.\n",
    "\n",
    "3. **Подсказка:** если Вы испытываете сложности с реализацией этого задания, начните выполнять его с написания функции `.predict`. В процессе написания этой функции Вы поймёте, что конкретно Вам требуется получить от обучающей выборки, какую информацию и в каком видед извлечь из неё. Затем реализуйте это в функции `.fit` "
   ]
  },
  {
   "cell_type": "markdown",
   "metadata": {},
   "source": [
    "## Пример входных и выходных данных"
   ]
  },
  {
   "cell_type": "code",
   "execution_count": 2,
   "metadata": {},
   "outputs": [
    {
     "data": {
      "text/plain": [
       "array([1, 0, 0])"
      ]
     },
     "execution_count": 2,
     "metadata": {},
     "output_type": "execute_result"
    }
   ],
   "source": [
    "X=np.array([[ 0.56510722,  0.68599596, -0.92388505, -0.29546048, -0.12437532],\n",
    "       [-0.79617537,  0.98406791,  1.19542652, -0.05626863, -0.69868076],\n",
    "       [ 0.9629688 , -1.00423925, -0.53842833, -0.23744358,  0.83226685],\n",
    "       [ 0.24671269, -0.41624448,  0.81679337,  1.59227446,  0.16192583],\n",
    "       [-0.36972363,  0.17425997,  1.33668078,  1.16687907,  0.31709134],\n",
    "       [-1.30482844, -0.05354323, -0.88862186, -1.121785  , -0.78442809],\n",
    "       [-0.53975018,  0.90074877, -1.09317408,  1.52989481, -0.43375015],\n",
    "       [-0.64709803, -0.09775791,  1.3506503 , -1.46957788,  1.63325543],\n",
    "       [-0.73858464, -0.60678229,  0.31420272, -0.43100129, -0.37665876],\n",
    "       [-0.29208809, -0.68795722,  0.06586655,  0.9583851 ,  1.70640775]])\n",
    "y=np.array([1, 0, 0, 1, 0, 1, 0, 1, 0, 1])\n",
    "knn = KNN_classifier(n_neighbors=3)\n",
    "knn.fit(X, y)\n",
    "x_test=np.array([[-0.12489725,  0.65791923, -0.73112495,  1.42660225,  1.64728976],\n",
    "       [ 0.01913388, -1.11351208, -0.63244098, -0.98121107,  0.38060892],\n",
    "       [-0.92074931,  1.39812225,  0.39692147,  0.7717827 ,  0.44604002]])\n",
    "knn.predict(x_test)\n",
    "# правильный отет: array([1, 0, 0])"
   ]
  }
 ],
 "metadata": {
  "kernelspec": {
   "display_name": "Python 3.11.0 64-bit",
   "language": "python",
   "name": "python3"
  },
  "language_info": {
   "codemirror_mode": {
    "name": "ipython",
    "version": 3
   },
   "file_extension": ".py",
   "mimetype": "text/x-python",
   "name": "python",
   "nbconvert_exporter": "python",
   "pygments_lexer": "ipython3",
   "version": "3.11.0"
  },
  "orig_nbformat": 4,
  "vscode": {
   "interpreter": {
    "hash": "aee8b7b246df8f9039afb4144a1f6fd8d2ca17a180786b69acc140d282b71a49"
   }
  }
 },
 "nbformat": 4,
 "nbformat_minor": 2
}
